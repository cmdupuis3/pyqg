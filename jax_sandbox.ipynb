{
 "cells": [
  {
   "cell_type": "code",
   "execution_count": 4,
   "id": "8e6bed33-ff8d-44e0-b849-34437e733951",
   "metadata": {},
   "outputs": [],
   "source": [
    "\n",
    "#from __future__ import division\n",
    "import numpy as np\n",
    "import warnings"
   ]
  },
  {
   "cell_type": "code",
   "execution_count": 5,
   "id": "1f500c5b-ad01-4277-8ae6-8d34cb20f58a",
   "metadata": {},
   "outputs": [],
   "source": [
    "import jax.numpy as jnp"
   ]
  },
  {
   "cell_type": "code",
   "execution_count": 6,
   "id": "3f75e855-80f4-4ebb-8bc2-0df61dfec131",
   "metadata": {},
   "outputs": [],
   "source": [
    "# see if we got a compile time flag\n",
    "# include '.compile_time_use_pyfftw.pxi'\n",
    "# IF PYQG_USE_PYFFTW:\n",
    "#     import pyfftw\n",
    "#     pyfftw.interfaces.cache.enable()\n",
    "# ELSE:\n",
    "#     import jnp.fft as npfft\n",
    "#     warnings.warn('No pyfftw detected. Using jax.numpy.fft')"
   ]
  },
  {
   "cell_type": "code",
   "execution_count": 7,
   "id": "648d335e-54a7-4d83-9802-2f0faa99367e",
   "metadata": {},
   "outputs": [],
   "source": [
    "class PseudoSpectralKernel:\n",
    "    \n",
    "    def __init__(self, nz, ny, nx, fftw_num_threads=1,\n",
    "            has_q_param=0, has_uv_param=0):\n",
    "        \n",
    "        self.nz = nz\n",
    "        self.ny = ny\n",
    "        self.nx = nx\n",
    "        self.nl = ny\n",
    "        self.nk = nx/2 + 1\n",
    "        self.a     = np.zeros((self.nz, self.nz, self.nl, self.nk), jnp.complex128)\n",
    "        self.kk    = np.zeros((self.nk), jnp.float64)\n",
    "        self._ik   = np.zeros((self.nk), jnp.complex128)\n",
    "        self.ll    = np.zeros((self.nl), jnp.float64)\n",
    "        self._il   = np.zeros((self.nl), jnp.complex128)\n",
    "        self._k2l2 = np.zeros((self.nl, self.nk), jnp.float64)\n",
    "        \n",
    "        #### other stuff ####\n",
    "        \n",
    "        \n",
    "        def _invert(self):\n",
    "                    \n",
    "            # invert qh to find ph\n",
    "            self.ph = jnp.apply_over_axes(jnp.sum, jnp.multiply(self.a, self.qh), [0])\n",
    "            \n",
    "            # calculate spectral velocities\n",
    "            self.uh = jnp.multiply(self.ph, self._il, axis=1)\n",
    "            self.vh = jnp.multiply(self.ph, self._ik, axis=2)\n",
    "            \n",
    "            self.ifft_uh_to_u()\n",
    "            self.ifft_vh_to_v()\n",
    "            \n",
    "            return\n",
    "        \n",
    "        def _do_advection(self):\n",
    "        \n",
    "            # multiply to get advective flux in space\n",
    "            self.uq = jnp.multiply(jnp.add(self.u, self.Ubg), self.q)\n",
    "            self.vq = jnp.multiply(self.v, self.q)\n",
    "            \n",
    "            self.fft_uq_to_uqh()\n",
    "            self.fft_vq_to_vqh()\n",
    "            \n",
    "            # spectral divergence\n",
    "            # overwrite the tendency, since the forcing gets called after\n",
    "            self.dqhdt[k,j,i] = -( jnp.multiply(self.uqh, self._ik, axis=2) +\n",
    "                                   jnp.multiply(self.vqh, self._il, axis=1) +\n",
    "                                   jnp.multiply(self.ph, self._ikQy, axes = [0,2]) # check axes!\n",
    "                                 )\n",
    "            return\n",
    "        \n",
    "        def _do_uv_subgrid_parameterization(self):\n",
    "            \n",
    "            self.fft_du_to_duh()\n",
    "            self.fft_dv_to_dvh()\n",
    "            \n",
    "            self.dqhdt = self.dqhdt +\n",
    "                         ( jnp.multiply(self.dvh, self._ik, axis=2) -\n",
    "                           jnp.multiply(self.duh, self._il, axis=1) )\n",
    "            return\n",
    "        \n",
    "    "
   ]
  },
  {
   "cell_type": "code",
   "execution_count": null,
   "id": "43ca8805-8554-47b6-b86e-d35459f902e4",
   "metadata": {},
   "outputs": [],
   "source": []
  },
  {
   "cell_type": "code",
   "execution_count": null,
   "id": "6fe21894-8279-4617-96af-5c31a0b487be",
   "metadata": {},
   "outputs": [],
   "source": []
  }
 ],
 "metadata": {
  "kernelspec": {
   "display_name": "Python 3 (ipykernel)",
   "language": "python",
   "name": "python3"
  },
  "language_info": {
   "codemirror_mode": {
    "name": "ipython",
    "version": 3
   },
   "file_extension": ".py",
   "mimetype": "text/x-python",
   "name": "python",
   "nbconvert_exporter": "python",
   "pygments_lexer": "ipython3",
   "version": "3.9.12"
  }
 },
 "nbformat": 4,
 "nbformat_minor": 5
}
